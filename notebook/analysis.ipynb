{
  "cells": [
    {
      "cell_type": "code",
      "execution_count": 35,
      "metadata": {
        "id": "zUxQLesOhQo8"
      },
      "outputs": [],
      "source": [
        ""
      ]
    },
    {
      "cell_type": "code",
      "execution_count": 36,
      "metadata": {
        "id": "74848e35"
      },
      "outputs": [],
      "source": [
        "import pandas as pd\n",
        "import numpy as np\n",
        "import matplotlib.pyplot as plt\n",
        "from sklearn.preprocessing import KBinsDiscretizer\n",
        "from numpy.core.fromnumeric import squeeze\n",
        "from imblearn.pipeline import Pipeline\n",
        "from sklearn.model_selection import train_test_split\n",
        "from sklearn.metrics import accuracy_score, classification_report, ConfusionMatrixDisplay\n",
        "from sklearn.pipeline import Pipeline\n",
        "from imblearn.pipeline import Pipeline\n",
        "from imblearn.over_sampling import SMOTE\n",
        "from sklearn.model_selection import cross_val_score\n",
        "from sklearn.model_selection import StratifiedKFold\n",
        "from sklearn.neighbors import KNeighborsClassifier\n",
        "from sklearn.linear_model import LogisticRegression\n",
        "from sklearn.ensemble import RandomForestClassifier\n",
        "from sklearn import svm\n",
        "from sklearn.tree import DecisionTreeClassifier\n",
        "from xgboost import XGBClassifier\n",
        "from imblearn.over_sampling import RandomOverSampler\n",
        "from imblearn.under_sampling import RandomUnderSampler\n",
        "from sklearn.model_selection import cross_val_predict\n",
        "from sklearn.metrics import confusion_matrix\n",
        "from sklearn.metrics import SCORERS\n",
        "from sklearn.model_selection import cross_validate\n",
        "import seaborn as sns\n",
        "from sklearn.feature_selection import SelectKBest\n",
        "from sklearn.feature_selection import chi2, f_regression \n",
        "from sklearn.feature_selection import f_classif, mutual_info_classif, f_regression, mutual_info_regression\n",
        "from sklearn.feature_selection import SelectFromModel\n",
        "from sklearn.metrics import make_scorer\n",
        "from imblearn.metrics import macro_averaged_mean_absolute_error\n",
        "from sklearn.metrics import balanced_accuracy_score\n",
        "from sklearn.preprocessing import StandardScaler"
      ]
    },
    {
      "cell_type": "code",
      "execution_count": 37,
      "metadata": {
        "id": "qypwUtY0MHi8"
      },
      "outputs": [],
      "source": [
        "#importo il dataset\n",
        "df = pd.read_csv('data_football_ratings.csv')"
      ]
    },
    {
      "cell_type": "code",
      "execution_count": 38,
      "metadata": {
        "id": "rewgt-bpGv_a"
      },
      "outputs": [],
      "source": [
        "#differenziare tra centrocampisti centrali (MF) e i centrocampisti difensivi (DMF) e i centrocampisti offensivi (AMF)\n",
        "df.loc[df.pos_role == 'DMC', 'pos'] = 'DMF'\n",
        "df.loc[df.pos_role == 'DMR', 'pos'] = 'DMF'\n",
        "df.loc[df.pos_role == 'DML', 'pos'] = 'DMF'\n",
        "\n",
        "df.loc[df.pos_role == 'AMC', 'pos'] = 'AMF'\n",
        "df.loc[df.pos_role == 'AMR', 'pos'] = 'AMF'\n",
        "df.loc[df.pos_role == 'AML', 'pos'] = 'AMF'"
      ]
    },
    {
      "cell_type": "code",
      "execution_count": 39,
      "metadata": {
        "id": "KsTERqOjr6-H"
      },
      "outputs": [],
      "source": [
        "#in pos, al posto di Sub metto \"nan\", in questo modo poi quando si fa la media, la funzione mode() non considera \"Sub\" come un ruolo, ma scarta direttamente i nan, non li considera\n",
        "df.loc[df.pos == 'Sub','pos'] = np.nan\n",
        "\n",
        "#per ogni calciatore calcolo la moda delle loro posizioni, in modo da assegnare la posizione alle istanze che non ce l'hanno, che hanno 'Sub' invece che la loro vera posizione\n",
        "#creo un altro dataframe in cui abbiamo calciatore e la loro posizione, calcolata condiserando la loro posizione che è occorsa più volte nel dataset (moda)\n",
        "df_reduced = df.groupby('player').pos.agg(pd.Series.mode).to_frame('moda_pos').reset_index()\n",
        "\n",
        "#elimino tutte le istanze per cui non si è potuto stabilire una moda (erano tutti Sub/nan) o una moda univoca (c'erano 1 MF e 1 DF)\n",
        "df_reduced.drop([9,12,21,22,37,39,44,51,52,56,67,68,78,90,92,101,119,125,129,135,142,149,164,170,176,177,179,180,182,189,207,217,227,235,239,245,257,258,259,266,272,294,301,310,313,321,323,338,351,371,384,394,402,403,414,415,423,438,444,445,453,457,467,473,475,480,489,491,501,504,515,516,531,538,550,578,583,584,602,603,604,616,621,628,630,636,643,645,664,678,684,695,702,713,719,734,738,745,757,761,762,766,785,790,791,795,809,812,825,836,844,850,854,871,879,891,897,898,899,911,916,919,923,928,929,933,937,942,945,982,994,999,1017,1040,1043,1048,1058,1060,1070,1082,1084,1091,1093,1095,1099,1106,1114,1117,1122,1130,1138,1140,1141,1144,1163,1165,1175,1191,1194,1198,1203,1203,1208,1210,1213,1214,1222,1229,1246,1253,1259,1265,1267,1281,1287,1288,1292,1293,1312,1328,1330,1346,1348,1368,1373,1375,1414,1415,1418,1421,1422,1430,1431,1433,1437,1440,1444,1446,1459,1464,1478,1495,1526,1531,1533,1535,1537,1576,1588,1603,1617], inplace= True)\n",
        "\n",
        "df_reduced.loc[df_reduced.player =='Diafra Sakho','moda_pos'] = 'FW'\n",
        "df_reduced.loc[df_reduced.player =='Julien Ngoy','moda_pos'] = 'FW'\n",
        "df_reduced.loc[df_reduced.player =='Carlos Sanchez','moda_pos'] = 'MF'\n",
        "df_reduced.loc[df_reduced.player =='Christoph Janker','moda_pos'] = 'DF'\n",
        "df_reduced.loc[df_reduced.player =='Riechedly Bazoer','moda_pos'] = 'MF'\n",
        "df_reduced.loc[df_reduced.player =='Sebastian Maier','moda_pos'] = 'MF'\n",
        "\n",
        "#join tra df e reduced_df in modo da aggiungere a ogni (tutti) calciatore la sua posizione \"preferita\" e allo stesso tempo elimino le istanze dove pos == 'Sub' \n",
        "#ma non era possibile stabilire la posizione perchè non compariva mai per quel calciatore oppure a causa di una moda non unica\n",
        "df_merged = pd.merge(df,df_reduced, on = 'player')\n",
        "\n",
        "#riempio i NaN in 'pos' con la posizione di quel calciatore\n",
        "df_merged.loc[df_merged.pos_role == 'Sub','pos'] = df_merged.moda_pos\n",
        "\n",
        "#creo una colonna \"starter\", utilizzando l'informazione di pos_role. Starter=1 significa che è partito titolare, 0 se subentrato\n",
        "fill_starter = lambda x: 0 if x == 'Sub' else 1\n",
        "df_merged['starter'] = df_merged.pos_role.apply(fill_starter)"
      ]
    },
    {
      "cell_type": "code",
      "execution_count": 40,
      "metadata": {
        "id": "6b28c944"
      },
      "outputs": [],
      "source": [
        "#cambio l'ordine dei rating tedeschi in modo che vadano in ordine crescente da 1 a 6: 6 best performance\n",
        "df_merged.loc[((df_merged.rater == 'Kicker')|(df_merged.rater == 'Bild') ) & (df_merged.original_rating == 1), 'original_rating'] = 'a'\n",
        "df_merged.loc[(df_merged.rater == 'Kicker') & (df_merged.original_rating == 1.5), 'original_rating'] = 'b'\n",
        "df_merged.loc[((df_merged.rater == 'Kicker')|(df_merged.rater == 'Bild') ) & (df_merged.original_rating == 2), 'original_rating'] = 'c'\n",
        "df_merged.loc[(df_merged.rater == 'Kicker') & (df_merged.original_rating == 2.5), 'original_rating'] = 'd'\n",
        "df_merged.loc[((df_merged.rater == 'Kicker')|(df_merged.rater == 'Bild') ) & (df_merged.original_rating == 3), 'original_rating'] = 'e'\n",
        "df_merged.loc[((df_merged.rater == 'Kicker')|(df_merged.rater == 'Bild') ) & (df_merged.original_rating == 4), 'original_rating'] = 'f'\n",
        "df_merged.loc[(df_merged.rater == 'Kicker') & (df_merged.original_rating == 4.5), 'original_rating'] = 'g'\n",
        "df_merged.loc[((df_merged.rater == 'Kicker')|(df_merged.rater == 'Bild') ) & (df_merged.original_rating == 5), 'original_rating'] = 'h'\n",
        "df_merged.loc[(df_merged.rater == 'Kicker') & (df_merged.original_rating == 5.5), 'original_rating'] = 'i'\n",
        "df_merged.loc[((df_merged.rater == 'Kicker')|(df_merged.rater == 'Bild') ) & (df_merged.original_rating == 6), 'original_rating'] = 'l'\n",
        "\n",
        "\n",
        "df_merged.loc[df_merged.original_rating == 'a', 'original_rating'] = 6\n",
        "df_merged.loc[df_merged.original_rating == 'b', 'original_rating'] = 5.5\n",
        "df_merged.loc[df_merged.original_rating == 'c', 'original_rating'] = 5\n",
        "df_merged.loc[df_merged.original_rating == 'd', 'original_rating'] = 4.5\n",
        "df_merged.loc[df_merged.original_rating == 'e', 'original_rating'] = 4\n",
        "df_merged.loc[df_merged.original_rating == 'f', 'original_rating'] = 3\n",
        "df_merged.loc[df_merged.original_rating == 'g', 'original_rating'] = 2.5\n",
        "df_merged.loc[df_merged.original_rating == 'h', 'original_rating'] = 2\n",
        "df_merged.loc[df_merged.original_rating == 'i', 'original_rating'] = 1.5\n",
        "df_merged.loc[df_merged.original_rating == 'l', 'original_rating'] = 1\n"
      ]
    },
    {
      "cell_type": "code",
      "execution_count": 41,
      "metadata": {
        "id": "wBOYzBy6EL0z"
      },
      "outputs": [],
      "source": [
        "df_merged = df_merged.assign(rating=pd.Series(np.random.randn(49700)).values)"
      ]
    },
    {
      "cell_type": "code",
      "execution_count": 42,
      "metadata": {
        "id": "s40uPTFXMz4p"
      },
      "outputs": [],
      "source": [
        "#creo dataset uno per ogni rater\n",
        "df_kicker = df_merged[df_merged.rater == 'Kicker']\n",
        "df_kicker = df_kicker.reset_index()\n",
        "\n",
        "df_bild = df_merged[df_merged.rater == 'Bild']\n",
        "df_bild = df_bild.reset_index()\n",
        "\n",
        "df_h_10 = df_merged[(df_merged.rater == 'TheGuardian') | (df_merged.rater == 'SkySports')]\n",
        "df_h_10 = df_h_10.reset_index()\n",
        "\n",
        "df_nh = df_merged[(df_merged.rater == 'WhoScored') | (df_merged.rater == 'SofaScore')]\n",
        "df_nh = df_nh.reset_index()\n",
        "\n",
        "df_guardian = df_merged[(df_merged.rater == 'TheGuardian')]\n",
        "df_ss = df_merged[(df_merged.rater == 'SkySports')]\n",
        "df_sofa = df_merged[(df_merged.rater == 'SofaScore')]\n",
        "df_wsc = df_merged[(df_merged.rater == 'WhoScored')]"
      ]
    },
    {
      "cell_type": "code",
      "source": [
        "\n",
        "df_wsc.original_rating.plot.hist(bins=10, title = 'WhoScored', rwidth=0.9, range=[1,10])\n",
        "\n",
        "plt.xlim([1, 10])\n",
        "plt.xticks(np.arange(1, 10, 1))\n",
        "\n",
        "plt.show()"
      ],
      "metadata": {
        "colab": {
          "base_uri": "https://localhost:8080/",
          "height": 281
        },
        "id": "EFMfUuHz0LwG",
        "outputId": "8607fb24-d632-4305-b251-16d432b5ee39"
      },
      "execution_count": 43,
      "outputs": [
        {
          "output_type": "display_data",
          "data": {
            "text/plain": [
              "<Figure size 432x288 with 1 Axes>"
            ],
            "image/png": "[encoded data removed]"
          },
          "metadata": {
            "needs_background": "light"
          }
        }
      ]
    },
    {
      "cell_type": "markdown",
      "source": [
        "Calcolo gli split point per ogni rater, poi discretizzo i ratings"
      ],
      "metadata": {
        "id": "XRUc8fjCnZQy"
      }
    },
    {
      "cell_type": "code",
      "execution_count": 44,
      "metadata": {
        "id": "cae452bc",
        "colab": {
          "base_uri": "https://localhost:8080/"
        },
        "outputId": "b3a5c250-7dc4-4b71-cea9-0bc6ad4639c6"
      },
      "outputs": [
        {
          "output_type": "execute_result",
          "data": {
            "text/plain": [
              "array([array([1.        , 1.7996184 , 2.74372969, 3.61271594, 4.34664871,\n",
              "              5.17176608, 6.        ])                                   ],\n",
              "      dtype=object)"
            ]
          },
          "metadata": {},
          "execution_count": 44
        }
      ],
      "source": [
        "#KICKER\n",
        "vect_k = df_kicker.original_rating\n",
        "vect_k = np.array(vect_k)\n",
        "vect_k = vect_k.reshape(-1,1)\n",
        "\n",
        "trans = KBinsDiscretizer(n_bins= 6, encode='ordinal', strategy='kmeans')\n",
        "vect_k = trans.fit_transform(vect_k)\n",
        "\n",
        "trans.bin_edges_"
      ]
    },
    {
      "cell_type": "code",
      "source": [
        "#BILD\n",
        "#prendo la serie (colonna original_rating di df_bild)\n",
        "vect_b = df_bild.original_rating\n",
        "#trasformo in array\n",
        "vect_b = np.array(vect_b)\n",
        "#array deve essere nella forma n x 1\n",
        "vect_b = vect_b.reshape(-1,1)\n",
        "\n",
        "#applico la discretizzazione sull'array\n",
        "trans = KBinsDiscretizer(n_bins= 6, encode='ordinal', strategy='kmeans')\n",
        "vect_b = trans.fit_transform(vect_b)\n",
        "\n",
        "trans.bin_edges_"
      ],
      "metadata": {
        "id": "o3ZtP3SdwjWd",
        "colab": {
          "base_uri": "https://localhost:8080/"
        },
        "outputId": "552fa488-08fd-42f3-d2b3-99a1f67834b9"
      },
      "execution_count": 45,
      "outputs": [
        {
          "output_type": "execute_result",
          "data": {
            "text/plain": [
              "array([array([1. , 1.5, 2.5, 3.5, 4.5, 5.5, 6. ])], dtype=object)"
            ]
          },
          "metadata": {},
          "execution_count": 45
        }
      ]
    },
    {
      "cell_type": "code",
      "source": [
        "#SkySports e TheGuardian\n",
        "\n",
        "vect_h10 = df_h_10.original_rating\n",
        "vect_h10 = np.array(vect_h10)\n",
        "vect_h10 = vect_h10.reshape(-1,1)\n",
        "\n",
        "trans = KBinsDiscretizer(n_bins= 6, encode='ordinal', strategy='kmeans')\n",
        "vect_h10 = trans.fit_transform(vect_h10)\n",
        "\n",
        "trans.bin_edges_"
      ],
      "metadata": {
        "id": "UXsoHS0F1LpB",
        "colab": {
          "base_uri": "https://localhost:8080/"
        },
        "outputId": "df4730d8-56dc-4ad7-f81e-0a842576466f"
      },
      "execution_count": 46,
      "outputs": [
        {
          "output_type": "execute_result",
          "data": {
            "text/plain": [
              "array([array([ 2.        ,  3.48148148,  4.5       ,  5.6993007 ,  7.1993007 ,\n",
              "               8.50347222, 10.        ])                                      ],\n",
              "      dtype=object)"
            ]
          },
          "metadata": {},
          "execution_count": 46
        }
      ]
    },
    {
      "cell_type": "code",
      "source": [
        "#WhoScored e SofaScore\n",
        "\n",
        "vect_nh = df_nh.original_rating\n",
        "vect_nh = np.array(vect_nh)\n",
        "vect_nh = vect_nh.reshape(-1,1)\n",
        "\n",
        "trans = KBinsDiscretizer(n_bins= 6, encode='ordinal', strategy='kmeans')\n",
        "vect_nh = trans.fit_transform(vect_nh)\n",
        "\n",
        "trans.bin_edges_\n"
      ],
      "metadata": {
        "id": "vIKSnOHx1LsI",
        "colab": {
          "base_uri": "https://localhost:8080/"
        },
        "outputId": "4d69b89f-8d57-46b8-dfc7-c75d699c911d"
      },
      "execution_count": 47,
      "outputs": [
        {
          "output_type": "execute_result",
          "data": {
            "text/plain": [
              "array([array([ 3.        ,  5.85935096,  6.36863425,  6.84586436,  7.38714671,\n",
              "               8.16858452, 10.        ])                                      ],\n",
              "      dtype=object)"
            ]
          },
          "metadata": {},
          "execution_count": 47
        }
      ]
    },
    {
      "cell_type": "code",
      "source": [
        "vect_ss = df_ss.original_rating\n",
        "vect_ss = np.array(vect_ss)\n",
        "vect_ss = vect_ss.reshape(-1,1)\n",
        "\n",
        "trans = KBinsDiscretizer(n_bins= 5, encode='ordinal', strategy='kmeans')\n",
        "vect_ss = trans.fit_transform(vect_ss)\n",
        "\n",
        "trans.bin_edges_"
      ],
      "metadata": {
        "id": "eQLY6mqyllRJ",
        "colab": {
          "base_uri": "https://localhost:8080/"
        },
        "outputId": "2a3b43b8-62d9-4226-9458-d0578fe6b117"
      },
      "execution_count": 48,
      "outputs": [
        {
          "output_type": "execute_result",
          "data": {
            "text/plain": [
              "array([array([ 2.        ,  3.902248  ,  5.42111592,  6.60538597,  8.10725165,\n",
              "              10.        ])                                                   ],\n",
              "      dtype=object)"
            ]
          },
          "metadata": {},
          "execution_count": 48
        }
      ]
    },
    {
      "cell_type": "code",
      "source": [
        "vect_guardian = df_guardian.original_rating\n",
        "vect_guardian = np.array(vect_guardian)\n",
        "vect_guardian = vect_guardian.reshape(-1,1)\n",
        "\n",
        "trans = KBinsDiscretizer(n_bins= 5, encode='ordinal', strategy='kmeans')\n",
        "vect_guardian = trans.fit_transform(vect_guardian)\n",
        "\n",
        "trans.bin_edges_"
      ],
      "metadata": {
        "colab": {
          "base_uri": "https://localhost:8080/"
        },
        "id": "bzD630C86XyW",
        "outputId": "ac0a1600-8a22-4129-9523-ccfdb5b6f09a"
      },
      "execution_count": 49,
      "outputs": [
        {
          "output_type": "execute_result",
          "data": {
            "text/plain": [
              "array([array([3.        , 4.47368421, 5.5       , 6.5       , 7.59322034,\n",
              "              9.        ])                                               ],\n",
              "      dtype=object)"
            ]
          },
          "metadata": {},
          "execution_count": 49
        }
      ]
    },
    {
      "cell_type": "code",
      "source": [
        "vect_sofa = df_sofa.original_rating\n",
        "vect_sofa = np.array(vect_sofa)\n",
        "vect_sofa = vect_sofa.reshape(-1,1)\n",
        "\n",
        "trans = KBinsDiscretizer(n_bins= 5, encode='ordinal', strategy='kmeans')\n",
        "vect_sofa = trans.fit_transform(vect_sofa)\n",
        "\n",
        "trans.bin_edges_"
      ],
      "metadata": {
        "colab": {
          "base_uri": "https://localhost:8080/"
        },
        "id": "momGfAP-6X1z",
        "outputId": "c7dea883-25b4-47d4-991b-ef50d926b7ea"
      },
      "execution_count": 50,
      "outputs": [
        {
          "output_type": "execute_result",
          "data": {
            "text/plain": [
              "array([array([ 3.        ,  4.5877451 ,  6.48618786,  7.13995791,  8.02390152,\n",
              "              10.        ])                                                   ],\n",
              "      dtype=object)"
            ]
          },
          "metadata": {},
          "execution_count": 50
        }
      ]
    },
    {
      "cell_type": "code",
      "source": [
        "vect_ws = df_wsc.original_rating\n",
        "vect_ws = np.array(vect_ws)\n",
        "vect_ws = vect_ws.reshape(-1,1)\n",
        "\n",
        "trans = KBinsDiscretizer(n_bins= 5, encode='ordinal', strategy='kmeans')\n",
        "vect_ws = trans.fit_transform(vect_ws)\n",
        "\n",
        "trans.bin_edges_"
      ],
      "metadata": {
        "colab": {
          "base_uri": "https://localhost:8080/"
        },
        "id": "v-7Vod0j7Er_",
        "outputId": "c9054a01-8dbb-4ebd-b283-05488adb6a33"
      },
      "execution_count": 51,
      "outputs": [
        {
          "output_type": "execute_result",
          "data": {
            "text/plain": [
              "array([array([ 3.91      ,  6.20832555,  6.73467114,  7.31229335,  8.10981678,\n",
              "              10.        ])                                                   ],\n",
              "      dtype=object)"
            ]
          },
          "metadata": {},
          "execution_count": 51
        }
      ]
    },
    {
      "cell_type": "code",
      "execution_count": 52,
      "metadata": {
        "id": "DXZGE8rE7c7p"
      },
      "outputs": [],
      "source": [
        "#STRATEGY = KMEANS\n",
        "#Kicker\n",
        "df_merged.loc[(df_merged.original_rating <= 2) & (df_merged.rater == 'Kicker'),'rating'] = 1\n",
        "df_merged.loc[(df_merged.original_rating > 2) & (df_merged.original_rating <= 3) & (df_merged.rater == 'Kicker'),'rating'] = 2\n",
        "df_merged.loc[(df_merged.original_rating > 3) & (df_merged.original_rating <= 4) & (df_merged.rater == 'Kicker'),'rating'] = 3\n",
        "df_merged.loc[(df_merged.original_rating > 4) & (df_merged.original_rating <= 5) & (df_merged.rater == 'Kicker'),'rating'] = 4\n",
        "df_merged.loc[(df_merged.original_rating > 5) & (df_merged.rater == 'Kicker'),'rating'] = 5\n",
        "\n",
        "#Bild resta uguale\n",
        "#df_merged.loc[df_merged.rater == 'Bild','rating'] = df_merged.original_rating\n",
        "\n",
        "df_merged.loc[(df_merged.original_rating <= 1) & (df_merged.rater == 'Bild'),'rating'] = 1\n",
        "df_merged.loc[(df_merged.original_rating >= 1.5) & (df_merged.original_rating < 2.5) & (df_merged.rater == 'Bild'),'rating'] = 2\n",
        "df_merged.loc[(df_merged.original_rating >= 2.5) & (df_merged.original_rating < 3.6) & (df_merged.rater == 'Bild'),'rating'] = 3\n",
        "df_merged.loc[(df_merged.original_rating >= 3.6) & (df_merged.original_rating <5.1) & (df_merged.rater == 'Bild'),'rating'] = 4\n",
        "df_merged.loc[(df_merged.original_rating >= 5.1) & (df_merged.rater == 'Bild'),'rating'] = 5\n",
        "\n",
        "#SKYSPORTS\n",
        "df_merged.loc[(df_merged.original_rating < 3.9) & (df_merged.rater == 'SkySports'),'rating'] = 1\n",
        "df_merged.loc[(df_merged.original_rating >= 3.9) & (df_merged.original_rating < 5.42) & (df_merged.rater == 'SkySports'),'rating'] = 2\n",
        "df_merged.loc[(df_merged.original_rating >= 5.42) & (df_merged.original_rating < 6.6) & (df_merged.rater == 'SkySports'),'rating'] = 3\n",
        "df_merged.loc[(df_merged.original_rating >= 6.6) & (df_merged.original_rating <8.1) & (df_merged.rater == 'SkySports'),'rating'] = 4\n",
        "df_merged.loc[(df_merged.original_rating >= 8.1) & (df_merged.rater == 'SkySports'),'rating'] = 5\n",
        "\n",
        "#THEGUARDIAN\n",
        "df_merged.loc[(df_merged.original_rating < 4.47) & (df_merged.rater == 'TheGuardian'),'rating'] = 1\n",
        "df_merged.loc[(df_merged.original_rating >= 4.47) & (df_merged.original_rating < 5.5) & (df_merged.rater == 'TheGuardian'),'rating'] = 2\n",
        "df_merged.loc[(df_merged.original_rating >= 5.5) & (df_merged.original_rating < 6.5) & (df_merged.rater == 'TheGuardian'),'rating'] = 3\n",
        "df_merged.loc[(df_merged.original_rating >= 6.5) & (df_merged.original_rating <7.59) & (df_merged.rater == 'TheGuardian'),'rating'] = 4\n",
        "df_merged.loc[(df_merged.original_rating >= 7.59) & (df_merged.rater == 'TheGuardian'),'rating'] = 5\n",
        "\n",
        "#SOFASCORE\n",
        "df_merged.loc[(df_merged.original_rating < 4.58) & (df_merged.rater == 'SofaScore'),'rating'] = 1\n",
        "df_merged.loc[(df_merged.original_rating >= 4.58) & (df_merged.original_rating < 6.48) & (df_merged.rater == 'SofaScore'),'rating'] = 2\n",
        "df_merged.loc[(df_merged.original_rating >= 6.48) & (df_merged.original_rating < 7.13) & (df_merged.rater == 'SofaScore'),'rating'] = 3\n",
        "df_merged.loc[(df_merged.original_rating >= 7.13) & (df_merged.original_rating <8.02) & (df_merged.rater == 'SofaScore'),'rating'] = 4\n",
        "df_merged.loc[(df_merged.original_rating >= 8.02) & (df_merged.rater == 'SofaScore'),'rating'] = 5\n",
        "\n",
        "#WHOSCORED\n",
        "df_merged.loc[(df_merged.original_rating < 6.20) & (df_merged.rater == 'WhoScored'),'rating'] = 1\n",
        "df_merged.loc[(df_merged.original_rating >= 6.20) & (df_merged.original_rating < 6.73) & (df_merged.rater == 'WhoScored'),'rating'] = 2\n",
        "df_merged.loc[(df_merged.original_rating >= 6.73) & (df_merged.original_rating < 7.31) & (df_merged.rater == 'WhoScored'),'rating'] = 3\n",
        "df_merged.loc[(df_merged.original_rating >= 7.31) & (df_merged.original_rating <8.10) & (df_merged.rater == 'WhoScored'),'rating'] = 4\n",
        "df_merged.loc[(df_merged.original_rating >= 8.10) & (df_merged.rater == 'WhoScored'),'rating'] = 5"
      ]
    },
    {
      "cell_type": "code",
      "source": [
        "df_merged.rating.plot.hist(bins=5, title = 'After discretization', rwidth=0.9, range=[1,5])\n",
        "\n",
        "plt.xlim([1, 5])\n",
        "plt.xticks(np.arange(1, 5, 1))\n",
        "\n",
        "plt.show()"
      ],
      "metadata": {
        "id": "w70d1QHfivxR",
        "colab": {
          "base_uri": "https://localhost:8080/",
          "height": 281
        },
        "outputId": "13496b87-bab9-4729-afc4-b0496cc9974a"
      },
      "execution_count": 53,
      "outputs": [
        {
          "output_type": "display_data",
          "data": {
            "text/plain": [
              "<Figure size 432x288 with 1 Axes>"
            ],
            "image/png": "[encoded data removed]"
          },
          "metadata": {
            "needs_background": "light"
          }
        }
      ]
    },
    {
      "cell_type": "code",
      "source": [
        "plt.boxplot(df_merged.rating)\n",
        "plt.show()"
      ],
      "metadata": {
        "id": "dWHiz0Lsg0ZF",
        "colab": {
          "base_uri": "https://localhost:8080/",
          "height": 265
        },
        "outputId": "1529a29a-e974-4ce7-d6b6-04f5a05c58ae"
      },
      "execution_count": 54,
      "outputs": [
        {
          "output_type": "display_data",
          "data": {
            "text/plain": [
              "<Figure size 432x288 with 1 Axes>"
            ],
            "image/png": "[encoded data removed]"
          },
          "metadata": {
            "needs_background": "light"
          }
        }
      ]
    },
    {
      "cell_type": "code",
      "source": [
        ""
      ],
      "metadata": {
        "id": "900PlcqHh1G3"
      },
      "execution_count": 54,
      "outputs": []
    },
    {
      "cell_type": "code",
      "execution_count": 55,
      "metadata": {
        "colab": {
          "base_uri": "https://localhost:8080/"
        },
        "id": "4AuXDAdtCXmk",
        "outputId": "85618876-f5ee-4bc8-a3a6-f5ce6bc773c6"
      },
      "outputs": [
        {
          "output_type": "execute_result",
          "data": {
            "text/plain": [
              "3.0    17254\n",
              "2.0    12632\n",
              "4.0    12532\n",
              "1.0     5638\n",
              "5.0     1643\n",
              "Name: rating, dtype: int64"
            ]
          },
          "metadata": {},
          "execution_count": 55
        }
      ],
      "source": [
        "df_merged.drop([13438], axis=0, inplace=True)\n",
        "\n",
        "df_merged.rating.value_counts()"
      ]
    },
    {
      "cell_type": "code",
      "execution_count": 56,
      "metadata": {
        "id": "68o1oPWnDMin"
      },
      "outputs": [],
      "source": [
        "\n",
        "df_def = df_merged\n"
      ]
    },
    {
      "cell_type": "code",
      "execution_count": 57,
      "metadata": {
        "colab": {
          "base_uri": "https://localhost:8080/"
        },
        "id": "aYqDKnTkIWDk",
        "outputId": "bbb06e2c-8774-4b46-b020-cce9330745b5"
      },
      "outputs": [
        {
          "output_type": "execute_result",
          "data": {
            "text/plain": [
              "3.0    17254\n",
              "2.0    12632\n",
              "4.0    12532\n",
              "1.0     5638\n",
              "5.0     1643\n",
              "Name: rating, dtype: int64"
            ]
          },
          "metadata": {},
          "execution_count": 57
        }
      ],
      "source": [
        "df_def.rating.value_counts()"
      ]
    },
    {
      "cell_type": "code",
      "execution_count": 58,
      "metadata": {
        "id": "4dyuA1XIDMug"
      },
      "outputs": [],
      "source": [
        "df_def = df_def.drop(columns= ['rater', 'is_human','original_rating'])\n"
      ]
    },
    {
      "cell_type": "markdown",
      "source": [
        "Elimino i duplicati"
      ],
      "metadata": {
        "id": "c0xrFzcPn8iC"
      }
    },
    {
      "cell_type": "code",
      "execution_count": 59,
      "metadata": {
        "colab": {
          "base_uri": "https://localhost:8080/"
        },
        "id": "Su0JLgw4IpKB",
        "outputId": "85b66188-c50a-446e-fd2d-457d5854894a"
      },
      "outputs": [
        {
          "output_type": "execute_result",
          "data": {
            "text/plain": [
              "3.0    12357\n",
              "2.0     9663\n",
              "4.0     8605\n",
              "1.0     5026\n",
              "5.0     1220\n",
              "Name: rating, dtype: int64"
            ]
          },
          "metadata": {},
          "execution_count": 59
        }
      ],
      "source": [
        "df_wod = df_def.drop_duplicates()\n",
        "df_wod.rating.value_counts()"
      ]
    },
    {
      "cell_type": "markdown",
      "source": [
        "**Eliminare elementi che differiscono solo per la classe**: considero le performances che sono presenti più di una volta nel dataframe e le salvo in un altro dataframe (df_grouped). Questi elementi, avendo già eliminato i duplicati, corrispondono a elementi per i quali sono presenti più rating diversi. A questo dataframe aggiungo un attributo (num_rating) che indica il numero di diversi rating presenti per quella performance.\n",
        "Successivamente eseguo un outer join tra il dataframe e df_grouped con il risultato di avere nella colonna 'num_rating' NaN per quegli elementi in cui c'è un rating unico.\n",
        "Salvo in un dataframe proprio questi elementi, eliminando quindi quelli con più rating diversi.\n",
        "\n",
        "Successivamente elimino attributi non necessari ai fini della classificazione."
      ],
      "metadata": {
        "id": "vHCILs7wpLH-"
      }
    },
    {
      "cell_type": "code",
      "execution_count": 60,
      "metadata": {
        "id": "Y1se_XoQq3j9"
      },
      "outputs": [],
      "source": [
        "df_grouped = df_wod.groupby(['date','team','player']).filter(lambda g: len(g) > 1).groupby(['date','team','player']).size().to_frame('num_ratings')"
      ]
    },
    {
      "cell_type": "code",
      "execution_count": 61,
      "metadata": {
        "colab": {
          "base_uri": "https://localhost:8080/"
        },
        "id": "IhkpcvvctvAu",
        "outputId": "e08743ff-4430-4368-d131-f5812e76cbba"
      },
      "outputs": [
        {
          "output_type": "execute_result",
          "data": {
            "text/plain": [
              "3.0    1906\n",
              "4.0    1757\n",
              "2.0    1712\n",
              "1.0    1111\n",
              "5.0     190\n",
              "Name: rating, dtype: int64"
            ]
          },
          "metadata": {},
          "execution_count": 61
        }
      ],
      "source": [
        "df_merged2 = pd.merge(df_wod,df_grouped, on =['date','team','player'], how='outer')\n",
        "\n",
        "df_merged2 = df_merged2[df_merged2.num_ratings.isna()]\n",
        "\n",
        "df = df_merged2.drop(columns = ['competition','date','match','team','pos_role','player','degree_centrality','moda_pos'])\n",
        "\n",
        "df.rating.value_counts()"
      ]
    },
    {
      "cell_type": "markdown",
      "source": [
        "*   One-hot encoding per trasformare gli attributi categorici\n",
        "*   Elimino l'attributo 'num_ratings' che adesso diventa inutile\n",
        "*   Creo X, y (classe) training e test set\n",
        "\n",
        "\n",
        "\n"
      ],
      "metadata": {
        "id": "XLDJ37m4wGIh"
      }
    },
    {
      "cell_type": "code",
      "source": [
        "df_mov_onehot = pd.get_dummies(df, columns=['pos'], prefix = ['pos'])\n",
        "df_mov_onehot = df_mov_onehot.drop(columns= ['num_ratings'])\n",
        "\n",
        "#Quello giusto\n",
        "X = df_mov_onehot.loc[:,df_mov_onehot.columns != 'rating']\n",
        "y = df_mov_onehot.iloc[:,53]\n",
        "\n",
        "X_train, X_test, y_train, y_test = train_test_split(X, y,test_size = 0.3, stratify=y)"
      ],
      "metadata": {
        "id": "-fTQ7EYfa5Fw"
      },
      "execution_count": 62,
      "outputs": []
    },
    {
      "cell_type": "code",
      "source": [
        "df_mov_onehot.rating.plot.hist(bins=5, title = 'After pre processing', rwidth=0.9, range=[1,5])\n",
        "\n",
        "plt.xlim([1, 5])\n",
        "plt.xticks(np.arange(1, 5, 1))\n",
        "\n",
        "plt.show()"
      ],
      "metadata": {
        "id": "eMnwKac1bfs-",
        "colab": {
          "base_uri": "https://localhost:8080/",
          "height": 281
        },
        "outputId": "b726a864-395f-49d2-a401-c032c373f31e"
      },
      "execution_count": 63,
      "outputs": [
        {
          "output_type": "display_data",
          "data": {
            "text/plain": [
              "<Figure size 432x288 with 1 Axes>"
            ],
            "image/png": "[encoded data removed]"
          },
          "metadata": {
            "needs_background": "light"
          }
        }
      ]
    },
    {
      "cell_type": "markdown",
      "source": [
        "Implementazione \"Ordinal classifier\". (Non esiste una implementazione in scikit-learn)"
      ],
      "metadata": {
        "id": "bM62oPAJNQJT"
      }
    },
    {
      "cell_type": "code",
      "source": [
        "from sklearn.base import clone\n",
        "\n",
        "\n",
        "class OrdinalClassifier():\n",
        "    \n",
        "    def __init__(self, clf):\n",
        "        self.clf = clf\n",
        "        self.clfs = {}\n",
        "    \n",
        "    def fit(self, X, y):\n",
        "        self.unique_class = np.sort(np.unique(y))\n",
        "        if self.unique_class.shape[0] > 2:\n",
        "            for i in range(self.unique_class.shape[0]-1):\n",
        "                # for each k - 1 ordinal value we fit a binary classification problem\n",
        "                binary_y = (y > self.unique_class[i]).astype(np.uint8)\n",
        "                clf = clone(self.clf)\n",
        "                clf.fit(X, binary_y)\n",
        "                self.clfs[i] = clf\n",
        "    \n",
        "    def predict_proba(self, X):\n",
        "        clfs_predict = {k:self.clfs[k].predict_proba(X) for k in self.clfs}\n",
        "        predicted = []\n",
        "        for i,y in enumerate(self.unique_class):\n",
        "            if i == 0:\n",
        "                # V1 = 1 - Pr(y > V1)\n",
        "                predicted.append(1 - clfs_predict[y-1][:,1])\n",
        "            elif y in clfs_predict:\n",
        "                # Vi = Pr(y > Vi-1) - Pr(y > Vi)\n",
        "                 predicted.append(clfs_predict[y-2][:,1] - clfs_predict[y-1][:,1])\n",
        "            else:\n",
        "                # Vk = Pr(y > Vk-1)\n",
        "                predicted.append(clfs_predict[y-2][:,1])\n",
        "        return np.vstack(predicted).T\n",
        "    \n",
        "    def predict(self, X):\n",
        "        return np.argmax(self.predict_proba(X), axis=1) + 1"
      ],
      "metadata": {
        "id": "lDIUqJDUeSLC"
      },
      "execution_count": 64,
      "outputs": []
    },
    {
      "cell_type": "code",
      "execution_count": 65,
      "metadata": {
        "id": "tdykuY9rT5OX",
        "colab": {
          "base_uri": "https://localhost:8080/",
          "height": 35
        },
        "outputId": "22498a60-afbe-411f-e11c-71b98534eda8"
      },
      "outputs": [
        {
          "output_type": "execute_result",
          "data": {
            "text/plain": [
              "'from sklearn.utils.multiclass import type_of_target\\ntype_of_target(X_train)\\ny_test = y_test.astype(int)\\ny_train = y_train.astype(int)'"
            ],
            "application/vnd.google.colaboratory.intrinsic+json": {
              "type": "string"
            }
          },
          "metadata": {},
          "execution_count": 65
        }
      ],
      "source": [
        "\"\"\"from sklearn.utils.multiclass import type_of_target\n",
        "type_of_target(X_train)\n",
        "y_test = y_test.astype(int)\n",
        "y_train = y_train.astype(int)\"\"\"\n"
      ]
    },
    {
      "cell_type": "code",
      "execution_count": 66,
      "metadata": {
        "colab": {
          "base_uri": "https://localhost:8080/",
          "height": 539
        },
        "id": "H3VuGOzjrLN_",
        "outputId": "cb238148-1683-45f9-a1bf-34c6e7ceb720"
      },
      "outputs": [
        {
          "output_type": "stream",
          "name": "stdout",
          "text": [
            "Time to build the model: 2.018679141998291\n",
            "0.6869695456814778\n",
            "0.29022479598819334\n",
            "              precision    recall  f1-score   support\n",
            "\n",
            "         1.0      0.733     0.760     0.746       333\n",
            "         2.0      0.644     0.621     0.632       514\n",
            "         3.0      0.616     0.649     0.632       572\n",
            "         4.0      0.765     0.734     0.749       527\n",
            "         5.0      0.836     0.807     0.821        57\n",
            "\n",
            "    accuracy                          0.687      2003\n",
            "   macro avg      0.719     0.714     0.716      2003\n",
            "weighted avg      0.688     0.687     0.687      2003\n",
            "\n"
          ]
        },
        {
          "output_type": "display_data",
          "data": {
            "text/plain": [
              "<Figure size 432x288 with 2 Axes>"
            ],
            "image/png": "[encoded data removed]"
          },
          "metadata": {
            "needs_background": "light"
          }
        }
      ],
      "source": [
        "from datetime import time, datetime, date\n",
        "import time\n",
        "pipe = Pipeline([\n",
        "         ('normalization',StandardScaler()),       \n",
        "\n",
        "         ('feature_sel',SelectFromModel(LogisticRegression(solver='newton-cg'))),\n",
        "         #('feature_sel',SelectKBest(score_func=f_classif, k=28)),\n",
        "\n",
        "         #('sampling', RandomOverSampler()),\n",
        "         #('sampling', SMOTE()),\n",
        "\n",
        "         #('classification', XGBClassifier(max_depth=5, min_child_weight=3,colsample_bytree=0.9,subsample=0.8))\n",
        "         #('classification', RandomForestClassifier(max_features=17, min_samples_split=3))        \n",
        "         #('classification', KNeighborsClassifier(n_neighbors= 21,leaf_size=1,p=1,weights=\"distance\"))\n",
        "         #('classification', svm.SVC(kernel= 'linear',C=0.75,gamma='auto'))\n",
        "         ('classification', LogisticRegression(solver='newton-cg'))\n",
        "         #('classification', OrdinalClassifier(DecisionTreeClassifier(max_depth=3)))\n",
        "    ])\n",
        "t1 = time.time()\n",
        "pipe.fit(X_train,y_train)\n",
        "t2 = time.time()\n",
        "print(f\"Time to build the model: {t2 - t1}\")\n",
        "\n",
        "\n",
        "y_pred = pipe.predict(X_test)\n",
        "\n",
        "print(accuracy_score(y_pred,y_test))\n",
        "print(macro_averaged_mean_absolute_error(y_pred,y_test))\n",
        "print(classification_report(y_test,y_pred,digits = 3))\n",
        "\n",
        "ConfusionMatrixDisplay.from_predictions(y_test, y_pred)\n",
        "plt.show()\n",
        "\n",
        "#calcola tutti gli alberi e li stampa in un file chiamato out.txt\n",
        "#pipe['classification'].get_booster().dump_model(\"out.txt\")\n",
        "\n",
        "\n"
      ]
    },
    {
      "cell_type": "markdown",
      "source": [
        "### Cross validation"
      ],
      "metadata": {
        "id": "9hwOko3tNkOc"
      }
    },
    {
      "cell_type": "code",
      "execution_count": 67,
      "metadata": {
        "id": "MblHlOjEqEJI",
        "colab": {
          "base_uri": "https://localhost:8080/"
        },
        "outputId": "a5933463-1796-4123-e924-51ecf30bfd45"
      },
      "outputs": [
        {
          "output_type": "stream",
          "name": "stdout",
          "text": [
            "dict_keys(['fit_time', 'score_time', 'estimator', 'test_acc', 'train_acc', 'test_prec_macro', 'train_prec_macro', 'test_prec_weighted', 'train_prec_weighted', 'test_rec_macro', 'train_rec_macro', 'test_rec_weighted', 'train_rec_weighted', 'test_f1_macro', 'train_f1_macro', 'test_f1_weighted', 'train_f1_weighted', 'test_mae', 'train_mae', 'test_rmse', 'train_rmse', 'test_mamae', 'train_mamae', 'test_balacc', 'train_balacc'])\n",
            "Macro averaged mean absolute error: [0.26918406 0.29955402 0.35035928 0.34374605 0.34600628 0.33333073\n",
            " 0.33605701 0.31137865 0.29456647 0.28239248]\n",
            "Macro averaged mean absolute error: 0.317\n",
            "Precision macro: 0.72\n",
            "Recall macro: 0.691\n",
            "F1 score macro: 0.702\n",
            "Average Accuracy: 0.678\n",
            "time : 0.024\n",
            "Selected features\n",
            "Fold 0: ['goals' 'assists' 'shots_ontarget' 'drib_success' 'keypasses' 'touches'\n",
            " 'passes_acc' 'passes_inacc' 'crosses_acc' 'lballs_acc' 'grduels_w'\n",
            " 'aerials_w' 'aerials_l' 'clearances' 'stop_shots' 'interceptions'\n",
            " 'tackles' 'ycards' 'rcards' 'goals_ag_itb' 'saves_itb' 'saves_otb'\n",
            " 'saved_pen' 'owngoals' 'flow_centrality' 'flow_success' 'win' 'lost'\n",
            " 'starter' 'pos_GK']\n",
            "Selected features\n",
            "Fold 1: ['goals' 'assists' 'shots_ontarget' 'drib_success' 'keypasses' 'touches'\n",
            " 'passes_acc' 'passes_inacc' 'crosses_acc' 'lballs_acc' 'grduels_w'\n",
            " 'aerials_w' 'poss_lost' 'clearances' 'stop_shots' 'interceptions'\n",
            " 'tackles' 'ycards' 'rcards' 'goals_ag_itb' 'saves_itb' 'saves_otb'\n",
            " 'saved_pen' 'owngoals' 'flow_centrality' 'flow_success' 'win' 'lost'\n",
            " 'starter' 'pos_GK']\n",
            "Selected features\n",
            "Fold 2: ['goals' 'assists' 'shots_ontarget' 'drib_success' 'keypasses' 'touches'\n",
            " 'passes_acc' 'passes_inacc' 'crosses_acc' 'grduels_w' 'aerials_w'\n",
            " 'aerials_l' 'poss_lost' 'clearances' 'stop_shots' 'interceptions'\n",
            " 'tackles' 'ycards' 'rcards' 'goals_ag_itb' 'saves_itb' 'saves_otb'\n",
            " 'saved_pen' 'owngoals' 'flow_centrality' 'flow_success' 'win' 'lost'\n",
            " 'starter' 'pos_GK']\n",
            "Selected features\n",
            "Fold 3: ['goals' 'assists' 'shots_ontarget' 'drib_success' 'keypasses' 'touches'\n",
            " 'passes_inacc' 'crosses_acc' 'lballs_acc' 'grduels_w' 'aerials_w'\n",
            " 'aerials_l' 'poss_lost' 'clearances' 'stop_shots' 'interceptions'\n",
            " 'tackles' 'ycards' 'rcards' 'goals_ag_otb' 'goals_ag_itb' 'saves_itb'\n",
            " 'saves_otb' 'saved_pen' 'flow_centrality' 'flow_success' 'win' 'lost'\n",
            " 'starter' 'pos_GK']\n",
            "Selected features\n",
            "Fold 4: ['goals' 'assists' 'shots_ontarget' 'drib_success' 'keypasses' 'touches'\n",
            " 'passes_acc' 'passes_inacc' 'crosses_acc' 'grduels_w' 'aerials_w'\n",
            " 'poss_lost' 'clearances' 'stop_shots' 'interceptions' 'tackles' 'ycards'\n",
            " 'rcards' 'goals_ag_otb' 'goals_ag_itb' 'saves_itb' 'saves_otb'\n",
            " 'saved_pen' 'owngoals' 'flow_centrality' 'flow_success' 'win' 'lost'\n",
            " 'starter' 'pos_GK']\n",
            "Selected features\n",
            "Fold 5: ['goals' 'assists' 'shots_ontarget' 'drib_success' 'keypasses' 'touches'\n",
            " 'passes_acc' 'passes_inacc' 'crosses_acc' 'lballs_acc' 'grduels_w'\n",
            " 'aerials_w' 'clearances' 'stop_shots' 'interceptions' 'tackles' 'ycards'\n",
            " 'rcards' 'goals_ag_otb' 'goals_ag_itb' 'saves_itb' 'saves_otb'\n",
            " 'saved_pen' 'owngoals' 'flow_centrality' 'flow_success' 'win' 'lost'\n",
            " 'starter' 'pos_GK']\n",
            "Selected features\n",
            "Fold 6: ['goals' 'assists' 'shots_ontarget' 'drib_success' 'keypasses' 'touches'\n",
            " 'passes_acc' 'passes_inacc' 'lballs_acc' 'lballs_inacc' 'grduels_w'\n",
            " 'aerials_w' 'poss_lost' 'clearances' 'stop_shots' 'interceptions'\n",
            " 'tackles' 'ycards' 'rcards' 'goals_ag_itb' 'saves_itb' 'saves_otb'\n",
            " 'saved_pen' 'owngoals' 'flow_centrality' 'flow_success' 'win' 'lost'\n",
            " 'starter' 'pos_GK']\n",
            "Selected features\n",
            "Fold 7: ['goals' 'assists' 'shots_ontarget' 'drib_success' 'keypasses' 'touches'\n",
            " 'passes_acc' 'passes_inacc' 'lballs_acc' 'lballs_inacc' 'grduels_w'\n",
            " 'aerials_w' 'poss_lost' 'clearances' 'stop_shots' 'interceptions'\n",
            " 'tackles' 'ycards' 'rcards' 'goals_ag_itb' 'saves_itb' 'saves_otb'\n",
            " 'saved_pen' 'owngoals' 'flow_centrality' 'flow_success' 'win' 'lost'\n",
            " 'starter' 'pos_GK']\n",
            "Selected features\n",
            "Fold 8: ['goals' 'assists' 'shots_ontarget' 'chances2score' 'drib_success'\n",
            " 'keypasses' 'touches' 'passes_inacc' 'crosses_acc' 'lballs_acc'\n",
            " 'grduels_w' 'aerials_w' 'poss_lost' 'clearances' 'stop_shots'\n",
            " 'interceptions' 'tackles' 'ycards' 'rcards' 'goals_ag_itb' 'saves_itb'\n",
            " 'saves_otb' 'saved_pen' 'owngoals' 'flow_centrality' 'flow_success' 'win'\n",
            " 'lost' 'starter' 'pos_GK']\n",
            "Selected features\n",
            "Fold 9: ['goals' 'assists' 'shots_ontarget' 'drib_success' 'keypasses' 'touches'\n",
            " 'passes_acc' 'crosses_acc' 'lballs_acc' 'grduels_w' 'aerials_w'\n",
            " 'poss_lost' 'clearances' 'stop_shots' 'interceptions' 'tackles' 'ycards'\n",
            " 'rcards' 'goals_ag_otb' 'goals_ag_itb' 'saves_itb' 'saves_otb'\n",
            " 'saved_pen' 'owngoals' 'flow_centrality' 'flow_success' 'win' 'lost'\n",
            " 'starter' 'pos_GK']\n"
          ]
        }
      ],
      "source": [
        "#CROSS VALIDATION\n",
        "pipe = Pipeline([\n",
        "         \n",
        "         ('normalization',StandardScaler()),\n",
        "         \n",
        "         #('feature_sel',SelectKBest(score_func=f_classif, k=35)),\n",
        "         ('feature_sel',SelectFromModel(LogisticRegression(solver='newton-cg'), threshold= 'median')),\n",
        "  \n",
        "         #('sampling', SMOTE()),\n",
        "         #('sampling', RandomOverSampler()),\n",
        "\n",
        "         \n",
        "         #('classification',RandomForestClassifier(max_features=17, min_samples_split=3, max_depth=90))\n",
        "         #('classification', KNeighborsClassifier(n_neighbors= 21,leaf_size=1,p=1,weights=\"distance\"))\n",
        "         #('classification', XGBClassifier(max_depth=5, min_child_weight=3,colsample_bytree=0.9,subsample=0.8))\n",
        "         ('classification', LogisticRegression(solver='newton-cg'))\n",
        "         #('classification', svm.SVC(kernel= 'linear',C=0.7,gamma='auto'))\n",
        "         #('classification', OrdinalClassifier(DecisionTreeClassifier(max_depth=5, min_samples_leaf=9, min_samples_split=6)))\n",
        "\n",
        "    ])\n",
        "\n",
        "mamae_scorer = make_scorer(macro_averaged_mean_absolute_error, greater_is_better=True)\n",
        "balacc_scorer = make_scorer(balanced_accuracy_score, greater_is_better=True)\n",
        "\n",
        "scoring = {'acc': 'accuracy',\n",
        "           'prec_macro': 'precision_macro',\n",
        "           'prec_weighted': 'precision_weighted',\n",
        "           'rec_macro': 'recall_macro',\n",
        "           'rec_weighted': 'recall_weighted',\n",
        "           'f1_macro': 'f1_macro',\n",
        "           'f1_weighted': 'f1_weighted',\n",
        "           'mae': 'neg_mean_absolute_error',\n",
        "           'rmse': 'neg_root_mean_squared_error',\n",
        "           'mamae': mamae_scorer,\n",
        "           'balacc': balacc_scorer}\n",
        "\n",
        "scores = cross_validate(pipe, X, y, scoring=scoring, cv=StratifiedKFold(10), return_train_score=True, return_estimator = True)\n",
        "print(scores.keys())\n",
        "print(f\"Macro averaged mean absolute error: {scores['test_mamae']}\")\n",
        "print(f\"Macro averaged mean absolute error: {scores['test_mamae'].mean().round(3)}\")\n",
        "print(f\"Precision macro: {scores['test_prec_macro'].mean().round(3)}\")\n",
        "print(f\"Recall macro: {scores['test_rec_macro'].mean().round(3)}\")\n",
        "print(f\"F1 score macro: {scores['test_f1_macro'].mean().round(3)}\")\n",
        "#print(f\"Accuracy in each fold: {scores['test_acc']}\")\n",
        "print(f\"Average Accuracy: {scores['test_acc'].mean().round(3)}\")\n",
        "#print(f\"Avg recall: {scores['test_rec_weighted'].mean().round(3)}\")\n",
        "print(f\"time : {scores['score_time'].mean().round(3)}\")\n",
        "#print(f\"Avg F1: {scores['test_f1_weighted'].mean().round(3)}\")\n",
        "#print(f\"Mean Absolute Error: {scores['test_mae'].mean().round(3)}\")\n",
        "#print(f\"Root Mean Squared Error: {scores['test_rmse'].mean().round(3)}\")\n",
        "#print(f\"Balanced accuracy: {scores['test_balacc'].mean().round(3)}\")\n",
        "\n",
        "for i in range(10):\n",
        "  print(\"Selected features\")\n",
        "  filter = scores['estimator'][i]['feature_sel'].get_support()\n",
        "  features = np.array(X.columns)\n",
        "  print(f\"Fold {i}: {features[filter]}\")\n",
        "\n"
      ]
    },
    {
      "cell_type": "code",
      "source": [
        "X = X.loc[:,filter]\n",
        "model_def = Pipeline([\n",
        "         ('normalization',StandardScaler()),\n",
        "         ('classification', LogisticRegression(solver='newton-cg'))\n",
        "    ])\n",
        "model_def.fit(X.values,y)"
      ],
      "metadata": {
        "colab": {
          "base_uri": "https://localhost:8080/"
        },
        "id": "i6fNL_EzdEt8",
        "outputId": "5d123545-046c-480e-9897-9797c74bce6f"
      },
      "execution_count": 82,
      "outputs": [
        {
          "output_type": "execute_result",
          "data": {
            "text/plain": [
              "Pipeline(steps=[('normalization', StandardScaler()),\n",
              "                ('classification', LogisticRegression(solver='newton-cg'))])"
            ]
          },
          "metadata": {},
          "execution_count": 82
        }
      ]
    },
    {
      "cell_type": "code",
      "source": [
        "#PROVA PREVISIONE\n",
        "uno = [[10,0,0,0,0,34,20,5,5,1,0,2,11,8,3,0,0,1,0,0,0,0,0,1,0.3,0,0,1,1,1]]\n",
        "result = model_def.predict(uno)\n",
        "print(f\"The rating is {result}\")"
      ],
      "metadata": {
        "colab": {
          "base_uri": "https://localhost:8080/"
        },
        "id": "9rgKlHMQdFAU",
        "outputId": "be94edf6-729a-40bf-e084-3298b3081650"
      },
      "execution_count": 91,
      "outputs": [
        {
          "output_type": "stream",
          "name": "stdout",
          "text": [
            "The rating is [5.]\n"
          ]
        }
      ]
    },
    {
      "cell_type": "markdown",
      "source": [
        "Salvo il modello"
      ],
      "metadata": {
        "id": "iRAYp2KeNsWT"
      }
    },
    {
      "cell_type": "code",
      "source": [
        "#SAVE THE MODEL\n",
        "import pickle\n",
        "\n",
        "filename = 'model_mov.sav'\n",
        "pickle.dump(model_def, open(filename, 'wb'))"
      ],
      "metadata": {
        "id": "Gc0E26UsiUv_"
      },
      "execution_count": null,
      "outputs": []
    },
    {
      "cell_type": "code",
      "source": [
        "#LOAD THE MODEL\n",
        "loaded_model = pickle.load(open('model_mov.sav', 'rb'))"
      ],
      "metadata": {
        "id": "KfQu-lMLuIpP"
      },
      "execution_count": null,
      "outputs": []
    },
    {
      "cell_type": "code",
      "source": [
        "df_movi = X.loc[X.pos_GK == 0,:]\n",
        "df_gk = X.loc[X.pos_GK == 1,:]"
      ],
      "metadata": {
        "id": "BfEhz4wHwgS8"
      },
      "execution_count": null,
      "outputs": []
    },
    {
      "cell_type": "markdown",
      "source": [
        "##Weka"
      ],
      "metadata": {
        "id": "iSEUuM3YUaOw"
      }
    },
    {
      "cell_type": "markdown",
      "source": [
        "Uso le API weka-python wrapper per provare anche CfsSubsetEval + BestFirst per la feature selection"
      ],
      "metadata": {
        "id": "VsOOvjemOpeY"
      }
    },
    {
      "cell_type": "code",
      "source": [
        "!pip install javabridge\n",
        "\n",
        "!pip install python-weka-wrapper3\n",
        "\n",
        "import weka.core.jvm as jvm\n",
        "jvm.start()"
      ],
      "metadata": {
        "id": "3GtD7Le0d_Nz"
      },
      "execution_count": null,
      "outputs": []
    },
    {
      "cell_type": "code",
      "source": [
        "#creo i fold e li salvo in delle liste: X_train_base, X_test_base, Y_train_base, Y_test_base\n",
        "skf = StratifiedKFold(10)\n",
        "\n",
        "X_train_base=[]\n",
        "X_test_base=[]\n",
        "Y_train_base=[]\n",
        "Y_test_base=[]\n",
        "\n",
        "for train_index, test_index in skf.split(X,y):\n",
        "\n",
        "    X_train, X_test = X.iloc[train_index,:], X.iloc[test_index,:]\n",
        "    Y_train, Y_test = y.iloc[train_index], y.iloc[test_index]\n",
        "    X_train_base.append(X_train)\n",
        "    X_test_base.append(X_test)\n",
        "    Y_train_base.append(Y_train)\n",
        "    Y_test_base.append(Y_test)\n",
        "\n",
        "#print(X_train_base[0])\n",
        "#print(Y_train_base[0])\n",
        "#print(X_train_base[1])\n",
        "#print(Y_train_base[1])"
      ],
      "metadata": {
        "id": "LQEY5-xaUkGs"
      },
      "execution_count": null,
      "outputs": []
    },
    {
      "cell_type": "code",
      "source": [
        "X_train_base_c = X_train_base.copy()\n",
        "Y_train_base_c = Y_train_base.copy()"
      ],
      "metadata": {
        "id": "2ONeYPj8OaIV"
      },
      "execution_count": null,
      "outputs": []
    },
    {
      "cell_type": "code",
      "source": [
        "#converto i df in numpy array in modo da poter essere \"letti\" da weka\n",
        "for i in range(10):  \n",
        "  X_train_base_c[i] = X_train_base_c[i].to_numpy()\n",
        "  Y_train_base_c[i] = Y_train_base_c[i].to_numpy()"
      ],
      "metadata": {
        "id": "HMq1jPxgQ8OS"
      },
      "execution_count": null,
      "outputs": []
    },
    {
      "cell_type": "code",
      "source": [
        "from weka.core.dataset import create_instances_from_matrices\n",
        "#creo fold: una lista di dataset\n",
        "fold = []\n",
        "\n",
        "for i in range(10):\n",
        "  fold.append(create_instances_from_matrices(X_train_base_c[i],Y_train_base_c[i]))"
      ],
      "metadata": {
        "id": "fODumzBeQ8Q1"
      },
      "execution_count": null,
      "outputs": []
    },
    {
      "cell_type": "code",
      "source": [
        "#settiamo la classe in tutti i fold\n",
        "for i in range(10):\n",
        "    fold[i].class_is_last()"
      ],
      "metadata": {
        "id": "UV1ucarfca5I"
      },
      "execution_count": null,
      "outputs": []
    },
    {
      "cell_type": "code",
      "source": [
        "#Perform the attribute selection e per ogni fold elimino le features non necessarie, quindi avrò per ogni fold solo le features selezionate\n",
        "from weka.attribute_selection import ASSearch, ASEvaluation, AttributeSelection\n",
        "search = ASSearch(classname=\"weka.attributeSelection.BestFirst\", options=[\"-D\", \"1\", \"-N\", \"\"])\n",
        "evaluator = ASEvaluation(classname=\"weka.attributeSelection.CfsSubsetEval\", options=[\"-P\", \"1\", \"-E\", \"1\"])\n",
        "attsel = AttributeSelection()\n",
        "attsel.search(search)\n",
        "attsel.evaluator(evaluator)\n",
        "\n",
        "for i in range(10):\n",
        "  attsel.select_attributes(fold[i])\n",
        "  print(\"# attributes: \" + str(attsel.number_attributes_selected))\n",
        "  print(\"attributes: \" + str(attsel.selected_attributes))\n",
        "  selected_attributes = np.delete(attsel.selected_attributes, attsel.selected_attributes.size-1)\n",
        "  X_train_base[i]= X_train_base[i].iloc[:,selected_attributes]\n",
        "  X_test_base[i]= X_test_base[i].iloc[:,selected_attributes]\n",
        "#print(\"result string:\\n\" + attsel.results_string)"
      ],
      "metadata": {
        "colab": {
          "base_uri": "https://localhost:8080/"
        },
        "id": "h7DCd69oUVKE",
        "outputId": "c4a83f25-b417-4a2b-c705-5d26a6b1a3b1"
      },
      "execution_count": null,
      "outputs": [
        {
          "output_type": "stream",
          "name": "stdout",
          "text": [
            "# attributes: 11\n",
            "attributes: [ 0  1  5 31 33 39 42 43 44 48 52 59]\n",
            "# attributes: 11\n",
            "attributes: [ 0  1  5 31 33 39 42 43 44 48 52 59]\n",
            "# attributes: 11\n",
            "attributes: [ 0  1  5 31 33 39 42 43 44 48 52 59]\n",
            "# attributes: 11\n",
            "attributes: [ 0  1  5 31 33 39 42 43 44 48 52 59]\n",
            "# attributes: 11\n",
            "attributes: [ 0  1  5 31 33 39 42 43 44 48 52 59]\n",
            "# attributes: 11\n",
            "attributes: [ 0  1  5 31 33 39 42 43 44 48 52 59]\n",
            "# attributes: 11\n",
            "attributes: [ 0  1  5 31 33 39 42 43 44 48 52 59]\n",
            "# attributes: 11\n",
            "attributes: [ 0  1  5 31 33 39 42 43 44 48 52 59]\n",
            "# attributes: 11\n",
            "attributes: [ 0  1  5 31 33 39 42 43 44 48 52 59]\n",
            "# attributes: 11\n",
            "attributes: [ 0  1  5 31 33 39 42 43 44 48 52 59]\n"
          ]
        }
      ]
    },
    {
      "cell_type": "code",
      "source": [
        "import pickle\n",
        "model = svm.SVC(kernel= 'linear',C=0.7,gamma='auto')\n",
        "\n",
        "model.fit(X_train_base[7],Y_train_base[7])\n",
        "\n",
        "filename = 'model_gk2.sav'\n",
        "pickle.dump(model, open(filename, 'wb'))"
      ],
      "metadata": {
        "id": "CX8XjYoyYisd"
      },
      "execution_count": null,
      "outputs": []
    },
    {
      "cell_type": "code",
      "source": [
        "#Eseguo la classificazione per ogni fold\n",
        "from sklearn.metrics import precision_score, f1_score\n",
        "from sklearn.metrics import recall_score\n",
        "from sklearn.metrics import mean_absolute_error, mean_squared_error\n",
        "from datetime import time, datetime, date\n",
        "import time\n",
        "accuracies = []\n",
        "precisions = []\n",
        "recalls = []\n",
        "f1s = []\n",
        "maes = []\n",
        "rmse = []\n",
        "build_times = []\n",
        "pred_times = []\n",
        "mamae = []\n",
        "\n",
        "#model = KNeighborsClassifier(n_neighbors= 21,leaf_size=1,p=1,weights=\"distance\")\n",
        "model = XGBClassifier(max_depth=5, min_child_weight=3,colsample_bytree=0.9,subsample=0.8)\n",
        "#model = XGBClassifier() #per gk\n",
        "#model = RandomForestClassifier(min_samples_split=3)\n",
        "#model = BernoulliNB()\n",
        "#model = svm.SVC(kernel= 'linear',C=0.7,gamma='auto')\n",
        "#model = OrdinalClassifier(DecisionTreeClassifier(max_depth=5, min_samples_leaf=9, min_samples_split=6))\n",
        "#model = OrdinalClassifier(DecisionTreeClassifier(max_depth=3))\n",
        "\n",
        "for i in range(10):\n",
        "  t1 = time.time()\n",
        "  model.fit(X_train_base[i],Y_train_base[i])\n",
        "  #model.fit(X_train_base_resampled[i],Y_train_base_resampled[i])\n",
        "  t2 = time.time()\n",
        "  build_times.append(t2-t1)\n",
        "\n",
        "  t3 = time.time()\n",
        "  y_pred = model.predict(X_test_base[i])\n",
        "  t4 = time.time()\n",
        "  pred_times.append(t4-t3)\n",
        "\n",
        "  accuracies.append(accuracy_score(y_pred,Y_test_base[i]))\n",
        "  precisions.append(precision_score(y_pred,Y_test_base[i],average='macro'))\n",
        "  recalls.append(recall_score(y_pred,Y_test_base[i],average='macro'))\n",
        "  f1s.append(f1_score(y_pred,Y_test_base[i],average='macro'))\n",
        "  maes.append(mean_absolute_error(y_pred,Y_test_base[i]))\n",
        "  rmse.append(mean_squared_error(y_pred,Y_test_base[i],squared=False))\n",
        "  mamae.append(macro_averaged_mean_absolute_error(y_pred,Y_test_base[i]))\n",
        "  print(mamae[i])\n",
        "\n",
        "print(f\"Average accuracy: {np.mean(accuracies).round(3)}\")\n",
        "print(f\"Average precision: {np.mean(precisions).round(3)}\")\n",
        "print(f\"Average recall: {np.mean(recalls).round(3)}\")\n",
        "print(f\"Average f score: {np.mean(f1s).round(3)}\")\n",
        "print(f\"Average mean absolute error: {np.mean(maes).round(3)}\")\n",
        "print(f\"Average root mean squared error: {np.mean(rmse).round(3)}\")\n",
        "print(f\"Average build time: {np.mean(build_times).round(3)}\")\n",
        "print(f\"Average prediction time: {np.mean(pred_times).round(3)}\")\n",
        "print(f\"MACRO Average mean absolute error: {np.mean(mamae).round(3)}\")"
      ],
      "metadata": {
        "id": "B2Z_jOfcg8dJ"
      },
      "execution_count": null,
      "outputs": []
    },
    {
      "cell_type": "code",
      "source": [
        "#SAVE THE MODEL\n",
        "import pickle\n",
        "\n",
        "filename = 'model_gk.sav'\n",
        "pickle.dump(model, open(filename, 'wb'))"
      ],
      "metadata": {
        "id": "opHegWIM-MWE"
      },
      "execution_count": null,
      "outputs": []
    },
    {
      "cell_type": "markdown",
      "source": [
        "**IN CASO DI RESAMPLING**: prima eseguire la cella successiva e applicare il fit su X_train_base_resampled e Y_train_base_resampled"
      ],
      "metadata": {
        "id": "2Vt3K7DmPryd"
      }
    },
    {
      "cell_type": "code",
      "source": [
        "#Eseguo la classificazione per ogni fold\n",
        "#IN CASO DI RESAMPLING: prima eseguire la cella successiva e applicare il fit su X_train_base_resampled e Y_train_base_resampled\n",
        "from sklearn.preprocessing import StandardScaler\n",
        "\n",
        "from sklearn.metrics import precision_score, f1_score\n",
        "from sklearn.metrics import recall_score\n",
        "from sklearn.metrics import mean_absolute_error, mean_squared_error\n",
        "from datetime import time, datetime, date\n",
        "import time\n",
        "accuracies = []\n",
        "precisions = []\n",
        "recalls = []\n",
        "f1s = []\n",
        "maes = []\n",
        "rmse = []\n",
        "build_times = []\n",
        "pred_times = []\n",
        "mamae = []\n",
        "\n",
        "model = Pipeline([\n",
        "                  ('normalization',StandardScaler()),\n",
        "                  #('classification', LogisticRegression(solver='newton-cg'))\n",
        "                  #('classification', svm.SVC(kernel= 'linear',C=0.7,gamma='auto'))\n",
        "                  ('classification', KNeighborsClassifier(n_neighbors= 21,leaf_size=1,p=1,weights=\"distance\"))\n",
        "])\n",
        "\n",
        "for i in range(10):\n",
        "  t1 = time.time()\n",
        "  #model.fit(X_train_base[i],Y_train_base[i])\n",
        "  model.fit(X_train_base_resampled[i],Y_train_base_resampled[i])\n",
        "  t2 = time.time()\n",
        "  build_times.append(t2-t1)\n",
        "\n",
        "  t3 = time.time()\n",
        "  y_pred = model.predict(X_test_base[i])\n",
        "  t4 = time.time()\n",
        "  pred_times.append(t4-t3)\n",
        "\n",
        "  accuracies.append(accuracy_score(y_pred,Y_test_base[i]))\n",
        "  precisions.append(precision_score(y_pred,Y_test_base[i],average='macro'))\n",
        "  recalls.append(recall_score(y_pred,Y_test_base[i],average='macro'))\n",
        "  f1s.append(f1_score(y_pred,Y_test_base[i],average='macro'))\n",
        "  maes.append(mean_absolute_error(y_pred,Y_test_base[i]))\n",
        "  rmse.append(mean_squared_error(y_pred,Y_test_base[i],squared=False))\n",
        "  mamae.append(macro_averaged_mean_absolute_error(y_pred,Y_test_base[i]))\n",
        "\n",
        "print(f\"Average accuracy: {np.mean(accuracies).round(3)}\")\n",
        "print(f\"Average precision: {np.mean(precisions).round(3)}\")\n",
        "print(f\"Average recall: {np.mean(recalls).round(3)}\")\n",
        "print(f\"Average f score: {np.mean(f1s).round(3)}\")\n",
        "print(f\"Average mean absolute error: {np.mean(maes).round(3)}\")\n",
        "print(f\"Average root mean squared error: {np.mean(rmse).round(3)}\")\n",
        "print(f\"Average build time: {np.mean(build_times).round(3)}\")\n",
        "print(f\"Average prediction time: {np.mean(pred_times).round(3)}\")\n",
        "print(f\"MACRO Average mean absolute error: {np.mean(mamae).round(3)}\")"
      ],
      "metadata": {
        "id": "RMhD-s6v2W4i"
      },
      "execution_count": null,
      "outputs": []
    },
    {
      "cell_type": "code",
      "source": [
        "#REBALANCING\n",
        "copiax = X_train_base[0].copy()\n",
        "copiay = Y_train_base[0].copy()\n",
        "\n",
        "X_train_base_resampled = []\n",
        "Y_train_base_resampled = []\n",
        "\n",
        "for i in range(10):\n",
        "  x_temp, y_temp = RandomOverSampler().fit_resample(X_train_base[i],Y_train_base[i])\n",
        "  X_train_base_resampled.append(x_temp)\n",
        "  Y_train_base_resampled.append(y_temp)"
      ],
      "metadata": {
        "id": "q8emlNwx4SML"
      },
      "execution_count": null,
      "outputs": []
    },
    {
      "cell_type": "markdown",
      "source": [
        "##Hyperparameters tuning"
      ],
      "metadata": {
        "id": "eLbIjqx0kdt8"
      }
    },
    {
      "cell_type": "code",
      "execution_count": null,
      "metadata": {
        "id": "GoFrTLNuH6gv"
      },
      "outputs": [],
      "source": [
        "#HYPERPARAMETER TUNING XGBClassifier\n",
        "from sklearn.model_selection import GridSearchCV\n",
        "\n",
        "model = XGBClassifier()\n",
        "parameters = {\n",
        " 'max_depth':range(3,10,2),\n",
        " 'min_child_weight':range(1,6,2)\n",
        "}\n",
        "\n",
        "parameters2 = {\n",
        " 'gamma':[i/10.0 for i in range(0,5)]\n",
        "}\n",
        "\n",
        "parameters3 = {\n",
        " 'subsample':[i/10.0 for i in range(6,10)],\n",
        " 'colsample_bytree':[i/10.0 for i in range(6,10)]\n",
        "}\n",
        "\n",
        "grid = GridSearchCV(model, parameters, cv=10, scoring=mamae_scorer)\n",
        "\n",
        "grid.fit(X_train,y_train)\n",
        "print(\"the best parameters are \\n {}\".format(grid.best_params_))"
      ]
    },
    {
      "cell_type": "code",
      "source": [
        "#HYPERPARAMETER TUNING KNN\n",
        "from sklearn.model_selection import GridSearchCV\n",
        "\n",
        "model = KNeighborsClassifier(n_neighbors= 10)\n",
        "parameters = {\n",
        " 'leaf_size':[1,10,15,20,30,40,50],\n",
        " 'n_neighbors': [5,7,9,10,11,13,15,20,21,22],\n",
        " 'weights' : ['uniform','distance'],\n",
        " 'p':(1,2),\n",
        " 'metric' : ['minkowski','euclidean','manhattan']\n",
        "}\n",
        "\n",
        "grid = GridSearchCV(model, parameters, cv=10, scoring = mamae_scorer)\n",
        "\n",
        "grid.fit(X_train,y_train)\n",
        "print(\"the best parameters are \\n {}\".format(grid.best_params_))"
      ],
      "metadata": {
        "colab": {
          "base_uri": "https://localhost:8080/"
        },
        "id": "KNJEtYR1dnLo",
        "outputId": "0f72d21d-a938-4cc9-eb5a-e8cd689f6d49"
      },
      "execution_count": null,
      "outputs": [
        {
          "output_type": "stream",
          "name": "stdout",
          "text": [
            "the best parameters are \n",
            " {'leaf_size': 1, 'metric': 'minkowski', 'n_neighbors': 21, 'p': 1, 'weights': 'distance'}\n"
          ]
        }
      ]
    },
    {
      "cell_type": "code",
      "source": [
        "#HYPERPARAMETER TUNING RANDOM FOREST\n",
        "from sklearn.model_selection import GridSearchCV\n",
        "\n",
        "model = RandomForestClassifier()\n",
        "parameters = {\n",
        " 'n_estimators':[100,200,300],\n",
        " 'max_depth': [80, 90, 100, 110],\n",
        " 'max_features' : ['auto', 'sqrt'],\n",
        " 'min_samples_leaf': [1,3,5],\n",
        " 'min_samples_split' : [3,5,8,10]\n",
        "}\n",
        "\n",
        "grid = GridSearchCV(model, parameters, cv=10, scoring = mamae_scorer)\n",
        "\n",
        "grid.fit(X_train,y_train)\n",
        "print(\"the best parameters are \\n {}\".format(grid.best_params_))"
      ],
      "metadata": {
        "colab": {
          "base_uri": "https://localhost:8080/"
        },
        "id": "gxowdSwhMNge",
        "outputId": "b2eeef93-f5b3-41d7-8599-0bf800d0d038"
      },
      "execution_count": null,
      "outputs": [
        {
          "output_type": "stream",
          "name": "stdout",
          "text": [
            "the best parameters are \n",
            " {'max_depth': 90, 'max_features': 'sqrt', 'min_samples_leaf': 1, 'min_samples_split': 3, 'n_estimators': 200}\n"
          ]
        }
      ]
    },
    {
      "cell_type": "code",
      "source": [
        "#HYPERPARAMETER TUNING LOGISTIC REGRESSION\n",
        "from sklearn.model_selection import GridSearchCV\n",
        "\n",
        "model = LogisticRegression()\n",
        "parameters = {\n",
        " 'solver':['newton-cg', 'lbfgs', 'liblinear'],\n",
        " 'penalty': ['none', 'l1', 'l2', 'elasticnet'],\n",
        " 'C' : [1e-5, 1e-4, 1e-3, 1e-2, 1e-1, 1, 10, 100]\n",
        "}\n",
        "\n",
        "grid = GridSearchCV(model, parameters, cv=10, scoring = mamae_scorer)\n",
        "\n",
        "grid.fit(X_train,y_train)\n",
        "print(\"the best parameters are \\n {}\".format(grid.best_params_))"
      ],
      "metadata": {
        "id": "E84sDZyb2PYY"
      },
      "execution_count": null,
      "outputs": []
    },
    {
      "cell_type": "code",
      "source": [
        "#HYPERPARAMETER TUNING DECISION TREE\n",
        "from sklearn.model_selection import GridSearchCV\n",
        "\n",
        "model = RandomForestClassifier()\n",
        "parameters = {\n",
        "\n",
        "    'max_depth': [2, 3, 5, 10, 20],\n",
        "    'min_samples_leaf': [5, 10, 20, 50, 100],\n",
        "    'criterion': [\"gini\", \"entropy\"]\n",
        "\n",
        "}\n",
        "\n",
        "grid = GridSearchCV(model, parameters, cv=10, scoring = mamae_scorer)\n",
        "\n",
        "grid.fit(X_train,y_train)\n",
        "print(\"the best parameters are \\n {}\".format(grid.best_params_))"
      ],
      "metadata": {
        "id": "14t90JpVZK47"
      },
      "execution_count": null,
      "outputs": []
    },
    {
      "cell_type": "markdown",
      "source": [
        "## Student t-test"
      ],
      "metadata": {
        "id": "HfyUVU7StTyj"
      }
    },
    {
      "cell_type": "code",
      "source": [
        ""
      ],
      "metadata": {
        "id": "VzP34PhStfVm"
      },
      "execution_count": null,
      "outputs": []
    },
    {
      "cell_type": "code",
      "execution_count": null,
      "metadata": {
        "id": "X5fc1n90LTxn"
      },
      "outputs": [],
      "source": [
        "#CROSS VALIDATION\n",
        "from sklearn.preprocessing import StandardScaler\n",
        "pipe = Pipeline([\n",
        "         \n",
        "         ('normalization',StandardScaler()),\n",
        "         #('feature_sel',SelectKBest(score_func=f_classif, k=11)),\n",
        "         ('feature_sel',SelectFromModel(LogisticRegression(solver='newton-cg'), threshold= 'median')),\n",
        "         #('feature_sel',SelectFromModel(OrdinalClassifier(DecisionTreeClassifier()))), #per gk\n",
        "         #('feature_sel',VarianceThreshold(threshold= 0.1)),\n",
        "         #('feature_sel',RFECV(estimator=XGBClassifier())),\n",
        "         #('feature_sel', ExtraTreesClassifier(n_estimators=10)), \n",
        "         #SequentialFeatureSelector(estimator=XGBClassifier(), n_features_to_select = 15, cv =10, direction ='backward'),\n",
        "  \n",
        "         #('sampling', SMOTE()),\n",
        "         #('sampling', RandomOverSampler()),\n",
        "         #('feature_sel',RFE(estimator=XGBClassifier(), n_features_to_select=30)),\n",
        "         #('classification', LogisticRegression(C=100,solver='newton-cg'))\n",
        "         #('classification',RandomForestClassifier(max_features=17, min_samples_split=3, max_depth=90))\n",
        "         \n",
        "         #('classification',RandomForestClassifier(max_features=11,  min_samples_split=3))\n",
        "         #('classification', KNeighborsClassifier(n_neighbors= 21,leaf_size=1,p=1,weights=\"distance\"))\n",
        "         #('classification', XGBClassifier(max_depth=5, min_child_weight=3,colsample_bytree=0.9,subsample=0.8))\n",
        "         #('classification', XGBClassifier()) #per gk\n",
        "         #('classification', BernoulliNB()), \n",
        "         ('classification', LogisticRegression(solver='newton-cg'))\n",
        "         #('classification', LogisticRegression())\n",
        "         #('classification', svm.SVR())\n",
        "         #('classification', svm.SVC(kernel= 'linear',C=0.7,gamma='auto'))\n",
        "         #('classification',BaggingClassifier(base_estimator=svm.SVC(kernel= 'linear',C=0.75,gamma='auto',probability=False),n_jobs=-1))\n",
        "         #('classification', OrdinalClassifier(DecisionTreeClassifier(max_depth=5, min_samples_leaf=9, min_samples_split=6)))\n",
        "         #('classification', OrdinalClassifier(DecisionTreeClassifier())) #per gk\n",
        "         #('classification', DecisionTreeClassifier(max_depth=5, min_samples_leaf=9, min_samples_split=6))\n",
        "\n",
        "    ])\n",
        "\n",
        "mamae_scorer = make_scorer(macro_averaged_mean_absolute_error, greater_is_better=True)\n",
        "balacc_scorer = make_scorer(balanced_accuracy_score, greater_is_better=True)\n",
        "\n",
        "scoring = {'acc': 'accuracy',\n",
        "           'prec_macro': 'precision_macro',\n",
        "           'prec_weighted': 'precision_weighted',\n",
        "           'rec_macro': 'recall_macro',\n",
        "           'rec_weighted': 'recall_weighted',\n",
        "           'f1_macro': 'f1_macro',\n",
        "           'f1_weighted': 'f1_weighted',\n",
        "           'mae': 'neg_mean_absolute_error',\n",
        "           'rmse': 'neg_root_mean_squared_error',\n",
        "           'mamae': mamae_scorer,\n",
        "           'balacc': balacc_scorer}\n",
        "\n",
        "scores = cross_validate(pipe, X, y, scoring=scoring, cv=StratifiedKFold(10), return_train_score=True, return_estimator = True)\n",
        "print(scores.keys())\n",
        "print(f\"Accuracy in each fold: {scores['test_acc']}\")\n",
        "print(f\"Average Accuracy: {scores['test_acc'].mean().round(3)}\")\n",
        "print(f\"Precision macro: {scores['test_prec_macro'].mean().round(3)}\")\n",
        "#print(f\"Avg Precision: {scores['test_prec_weighted'].mean().round(3)}\")\n",
        "print(f\"Recall macro: {scores['test_rec_macro'].mean().round(3)}\")\n",
        "#print(f\"Avg recall: {scores['test_rec_weighted'].mean().round(3)}\")\n",
        "print(f\"F1 score macro: {scores['test_f1_macro'].mean().round(3)}\")\n",
        "#print(f\"Avg F1: {scores['test_f1_weighted'].mean().round(3)}\")\n",
        "print(f\"Mean Absolute Error: {scores['test_mae'].mean().round(3)}\")\n",
        "print(f\"Root Mean Squared Error: {scores['test_rmse'].mean().round(3)}\")\n",
        "print(f\"Macro averaged mean absolute error: {scores['test_mamae'].mean().round(3)}\")\n",
        "print(f\"Macro averaged mean absolute error: {scores['test_mamae']}\")\n",
        "print(f\"Balanced accuracy: {scores['test_balacc'].mean().round(3)}\")\n",
        "\n",
        "for i in range(10):\n",
        "  print(\"Selected features\")\n",
        "  filter = scores['estimator'][i]['feature_sel'].get_support()\n",
        "  features = np.array(X.columns)\n",
        "  print(f\"Fold {i}: {features[filter]}\")\n",
        "\n"
      ]
    },
    {
      "cell_type": "code",
      "source": [
        ""
      ],
      "metadata": {
        "id": "euP-fdSzbjnQ"
      },
      "execution_count": null,
      "outputs": []
    },
    {
      "cell_type": "code",
      "source": [
        "from statsmodels.graphics.gofplots import qqplot\n",
        "from matplotlib import pyplot\n",
        "\n",
        "qqplot(scores['test_mamae'],line = 's')\n",
        "pyplot.show"
      ],
      "metadata": {
        "colab": {
          "base_uri": "https://localhost:8080/",
          "height": 296
        },
        "id": "PSZcuLxnHSUU",
        "outputId": "4f1e55cf-e35c-452a-bf5c-1c69076e126d"
      },
      "execution_count": null,
      "outputs": [
        {
          "output_type": "execute_result",
          "data": {
            "text/plain": [
              "<function matplotlib.pyplot.show>"
            ]
          },
          "metadata": {},
          "execution_count": 265
        },
        {
          "output_type": "display_data",
          "data": {
            "text/plain": [
              "<Figure size 432x288 with 1 Axes>"
            ],
            "image/png": "[encoded data removed]"
          },
          "metadata": {
            "needs_background": "light"
          }
        }
      ]
    },
    {
      "cell_type": "markdown",
      "source": [
        "Test di Shapiro-Wilk per la verifica della normalità"
      ],
      "metadata": {
        "id": "Bt6Apmp5QPpj"
      }
    },
    {
      "cell_type": "code",
      "source": [
        "#SHAPIRO WILK TEST\n",
        "from scipy.stats import shapiro\n",
        "\n",
        "#stat, p = shapiro(scores['test_mamae'])\n",
        "#stat, p = shapiro(scores['test_f1_macro'])\n",
        "\n",
        "#stat, p = shapiro(f1s)\n",
        "stat, p = shapiro(mamae)\n",
        "\n",
        "print('Statistics=%.3f, p=%.3f' % (stat, p))\n",
        "# interpret\n",
        "alpha = 0.05\n",
        "if p > alpha:\n",
        "\tprint('Sample looks Gaussian (fail to reject H0)')\n",
        "else:\n",
        "\tprint('Sample does not look Gaussian (reject H0)')"
      ],
      "metadata": {
        "colab": {
          "base_uri": "https://localhost:8080/"
        },
        "id": "mLCHBcT1JQVv",
        "outputId": "b62b9f90-2ce4-42ca-99e1-d922b4623e4c"
      },
      "execution_count": null,
      "outputs": [
        {
          "output_type": "stream",
          "name": "stdout",
          "text": [
            "Statistics=0.964, p=0.835\n",
            "Sample looks Gaussian (fail to reject H0)\n"
          ]
        }
      ]
    },
    {
      "cell_type": "code",
      "source": [
        "a_mamae = scores['test_mamae']\n",
        "a_f1 = scores['test_f1_macro']"
      ],
      "metadata": {
        "id": "3Y6R7AlBM3mb"
      },
      "execution_count": null,
      "outputs": []
    },
    {
      "cell_type": "code",
      "source": [
        "#b_mamae = scores['test_mamae']\n",
        "#b_f1 = scores['test_f1_macro']\n",
        "\n",
        "b_mamae = mamae\n",
        "b_f1 = f1s\n"
      ],
      "metadata": {
        "id": "tCkUesJ5M_Mm"
      },
      "execution_count": null,
      "outputs": []
    },
    {
      "cell_type": "code",
      "source": [
        "a_acc = scores['test_acc']\n",
        "#if NOT Gaussian:\n",
        "a_f1 = np.sqrt(scores['test_f1_macro'])\n",
        "\n",
        "#a_f1 = scores['test_f1_macro']\n",
        "a_mae = scores['test_mae']"
      ],
      "metadata": {
        "id": "mRH1qTPfOBOJ"
      },
      "execution_count": null,
      "outputs": []
    },
    {
      "cell_type": "code",
      "source": [
        "from scipy.stats import ttest_rel\n",
        "\n",
        "# Python paired sample t-test\n",
        "#print(f\"accuracy: {ttest_rel(a_acc, b_acc)}\")\n",
        "print(f\"f score: {ttest_rel(a_f1, b_f1)}\")\n",
        "print(f\"MA MAE: {ttest_rel(a_mamae, b_mamae)}\")"
      ],
      "metadata": {
        "colab": {
          "base_uri": "https://localhost:8080/"
        },
        "id": "h4UnOqYlRwI4",
        "outputId": "ac26fd12-39db-4aed-ec25-ebdea52aac21"
      },
      "execution_count": null,
      "outputs": [
        {
          "output_type": "stream",
          "name": "stdout",
          "text": [
            "f score: Ttest_relResult(statistic=8.60396971186314, pvalue=1.2318893753609068e-05)\n",
            "MA MAE: Ttest_relResult(statistic=-2.792830276427196, pvalue=0.020956694826666213)\n"
          ]
        }
      ]
    }
  ],
  "metadata": {
    "colab": {
      "collapsed_sections": [],
      "name": "sei.ipynb",
      "provenance": []
    },
    "kernelspec": {
      "display_name": "Python 3",
      "name": "python3"
    },
    "language_info": {
      "name": "python"
    }
  },
  "nbformat": 4,
  "nbformat_minor": 0
}